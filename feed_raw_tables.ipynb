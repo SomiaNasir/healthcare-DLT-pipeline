{
 "cells": [
  {
   "cell_type": "code",
   "execution_count": 0,
   "metadata": {
    "application/vnd.databricks.v1+cell": {
     "cellMetadata": {
      "byteLimit": 2048000,
      "rowLimit": 10000
     },
     "inputWidgets": {},
     "nuid": "369f7d46-3fc1-4405-a4af-150b2513d987",
     "showTitle": false,
     "tableResultSettingsMap": {},
     "title": ""
    }
   },
   "outputs": [],
   "source": [
    "df = spark.read.option(\"header\", \"true\").option(\"inferSchema\", \"true\").csv(\"/Volumes/incremental_load/default/healthcare_data/diagnosis_mapping.csv\")\n",
    "display(df)\n",
    "\n",
    "df.write.format(\"delta\").mode(\"append\").saveAsTable(\"incremental_load.default.raw_diagnosis_map\")"
   ]
  },
  {
   "cell_type": "code",
   "execution_count": 0,
   "metadata": {
    "application/vnd.databricks.v1+cell": {
     "cellMetadata": {
      "byteLimit": 2048000,
      "rowLimit": 10000
     },
     "inputWidgets": {},
     "nuid": "5cdf5a45-eb7b-4f40-a997-3f88fba6c263",
     "showTitle": false,
     "tableResultSettingsMap": {},
     "title": ""
    }
   },
   "outputs": [],
   "source": [
    "path1 = \"/Volumes/incremental_load/default/healthcare_data/patients_daily_file_1_2024.csv\"\n",
    "path2 = \"/Volumes/incremental_load/default/healthcare_data/patients_daily_file_2_2024.csv\"\n",
    "\n",
    "df1 = spark.read.option(\"header\", \"true\").option(\"inferSchema\", \"true\").csv(f\"{path1}\")\n",
    "df1 = df1.withColumn(\"admission_date\", df1[\"admission_date\"].cast(\"date\"))\n",
    "\n",
    "display(df1)\n",
    "\n",
    "df1.write.format(\"delta\").option(\"mergeSchema\", \"true\").mode(\"append\").saveAsTable(\"incremental_load.default.raw_patients_daily\")"
   ]
  }
 ],
 "metadata": {
  "application/vnd.databricks.v1+notebook": {
   "computePreferences": null,
   "dashboards": [],
   "environmentMetadata": {
    "base_environment": "",
    "environment_version": "2"
   },
   "inputWidgetPreferences": null,
   "language": "python",
   "notebookMetadata": {
    "pythonIndentUnit": 4
   },
   "notebookName": "feed_raw_tables",
   "widgets": {}
  },
  "language_info": {
   "name": "python"
  }
 },
 "nbformat": 4,
 "nbformat_minor": 0
}
