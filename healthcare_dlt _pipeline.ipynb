{
 "cells": [
  {
   "cell_type": "code",
   "execution_count": 0,
   "metadata": {
    "application/vnd.databricks.v1+cell": {
     "cellMetadata": {},
     "inputWidgets": {},
     "nuid": "2f982e11-9369-4e3b-9910-b61750eb65eb",
     "showTitle": false,
     "tableResultSettingsMap": {},
     "title": ""
    }
   },
   "outputs": [],
   "source": [
    "-- Databricks notebook source\n",
    "CREATE LIVE TABLE diagnostic_mapping\n",
    "COMMENT \"Bronze table for the diagnosis mapping file\"\n",
    "TBLPROPERTIES (\"quality\" = \"bronze\")\n",
    "AS\n",
    "SELECT *\n",
    "FROM incremental_load.default.raw_diagnosis_map;"
   ]
  },
  {
   "cell_type": "code",
   "execution_count": 0,
   "metadata": {
    "application/vnd.databricks.v1+cell": {
     "cellMetadata": {},
     "inputWidgets": {},
     "nuid": "6f5454be-a3a8-44f9-ba70-cb83e8187150",
     "showTitle": false,
     "tableResultSettingsMap": {},
     "title": ""
    }
   },
   "outputs": [],
   "source": [
    "CREATE OR REFRESH STREAMING TABLE daily_patients\n",
    "COMMENT \"Bronze table for daily patient data\"\n",
    "TBLPROPERTIES (\"quality\" = \"bronze\")\n",
    "AS\n",
    "SELECT *\n",
    "FROM STREAM(incremental_load.default.raw_patients_daily);"
   ]
  },
  {
   "cell_type": "code",
   "execution_count": 0,
   "metadata": {
    "application/vnd.databricks.v1+cell": {
     "cellMetadata": {},
     "inputWidgets": {},
     "nuid": "7b639616-a79f-4903-b77e-88c94067637e",
     "showTitle": false,
     "tableResultSettingsMap": {},
     "title": ""
    }
   },
   "outputs": [],
   "source": [
    "\n",
    "CREATE OR REFRESH STREAMING TABLE processed_patient_data\n",
    "-- (CONSTRAINT valid_data EXPECT (patient_id IS NOT NULL and `name` IS NOT NULL and age IS NOT NULL and gender IS NOT NULL and `address` IS NOT NULL and contact_number IS NOT NULL and admission_date IS NOT NULL) ON VIOLATION DROP ROW)\n",
    "COMMENT \"Silver table with newly joined data from bronze tables and data quality constraints\"\n",
    "TBLPROPERTIES (\"quality\" = \"silver\")\n",
    "AS\n",
    "SELECT\n",
    "    p.patient_id,\n",
    "    p.name,\n",
    "    p.age,\n",
    "    p.gender,\n",
    "    p.address,\n",
    "    p.contact_number,\n",
    "    p.admission_date,\n",
    "    m.diagnosis_description\n",
    "FROM STREAM(LIVE.daily_patients) p\n",
    "LEFT JOIN LIVE.diagnostic_mapping m\n",
    "ON p.diagnosis_code = m.diagnosis_code;"
   ]
  },
  {
   "cell_type": "code",
   "execution_count": 0,
   "metadata": {
    "application/vnd.databricks.v1+cell": {
     "cellMetadata": {},
     "inputWidgets": {},
     "nuid": "5ef8bf13-85e2-4a53-bfcb-832b36a8af2c",
     "showTitle": false,
     "tableResultSettingsMap": {},
     "title": ""
    }
   },
   "outputs": [],
   "source": [
    "CREATE LIVE TABLE patient_statistics_by_diagnosis\n",
    "COMMENT \"Gold table with detailed patient statistics by diagnosis description\"\n",
    "TBLPROPERTIES (\"quality\" = \"gold\")\n",
    "AS\n",
    "SELECT\n",
    "    diagnosis_description,\n",
    "    COUNT(patient_id) AS patient_count,\n",
    "    AVG(age) AS avg_age,\n",
    "    COUNT(DISTINCT gender) AS unique_gender_count,\n",
    "    MIN(age) AS min_age,\n",
    "    MAX(age) AS max_age\n",
    "FROM LIVE.processed_patient_data\n",
    "GROUP BY diagnosis_description;"
   ]
  },
  {
   "cell_type": "code",
   "execution_count": 0,
   "metadata": {
    "application/vnd.databricks.v1+cell": {
     "cellMetadata": {},
     "inputWidgets": {},
     "nuid": "950a0b7d-48ca-4310-ba96-e37704daeffa",
     "showTitle": false,
     "tableResultSettingsMap": {},
     "title": ""
    }
   },
   "outputs": [],
   "source": [
    "CREATE LIVE TABLE patient_statistics_by_gender\n",
    "COMMENT \"Gold table with detailed patient statistics by gender\"\n",
    "TBLPROPERTIES (\"quality\" = \"gold\")\n",
    "AS\n",
    "SELECT\n",
    "    gender,\n",
    "    COUNT(patient_id) AS patient_count,\n",
    "    AVG(age) AS avg_age,\n",
    "    COUNT(DISTINCT diagnosis_description) AS unique_diagnosis_count,\n",
    "    MIN(age) AS min_age,\n",
    "    MAX(age) AS max_age\n",
    "FROM LIVE.processed_patient_data\n",
    "GROUP BY gender;"
   ]
  }
 ],
 "metadata": {
  "application/vnd.databricks.v1+notebook": {
   "computePreferences": null,
   "dashboards": [],
   "environmentMetadata": {
    "base_environment": "",
    "environment_version": "2"
   },
   "inputWidgetPreferences": null,
   "language": "sql",
   "notebookMetadata": {
    "pythonIndentUnit": 4
   },
   "notebookName": "healthcare_dlt _pipeline",
   "widgets": {}
  },
  "language_info": {
   "name": "sql"
  }
 },
 "nbformat": 4,
 "nbformat_minor": 0
}
